{
 "cells": [
  {
   "cell_type": "markdown",
   "metadata": {
    "deletable": false
   },
   "source": [
    "# UFCFVQ-15-M Programming for Data Science (Autumn 2021)\n",
    "# Programming Task 2\n",
    "\n",
    "## Student Id: "
   ]
  },
  {
   "cell_type": "markdown",
   "metadata": {
    "deletable": false
   },
   "source": [
    "### Requirement FR9 - Read CSV data from two files and merge it into a single Data Frame "
   ]
  },
  {
   "cell_type": "code",
   "execution_count": 15,
   "metadata": {},
   "outputs": [
    {
     "data": {
      "text/html": [
       "<div>\n",
       "<style scoped>\n",
       "    .dataframe tbody tr th:only-of-type {\n",
       "        vertical-align: middle;\n",
       "    }\n",
       "\n",
       "    .dataframe tbody tr th {\n",
       "        vertical-align: top;\n",
       "    }\n",
       "\n",
       "    .dataframe thead th {\n",
       "        text-align: right;\n",
       "    }\n",
       "</style>\n",
       "<table border=\"1\" class=\"dataframe\">\n",
       "  <thead>\n",
       "    <tr style=\"text-align: right;\">\n",
       "      <th></th>\n",
       "      <th>region</th>\n",
       "      <th>median_household_income</th>\n",
       "      <th>share_unemployed_seasonal</th>\n",
       "      <th>share_population_in_metro_areas</th>\n",
       "      <th>share_population_with_high_school_degree</th>\n",
       "      <th>share_non_citizen</th>\n",
       "      <th>share_white_poverty</th>\n",
       "      <th>gini_index</th>\n",
       "      <th>share_non_white</th>\n",
       "      <th>share_voters_voted_to_the_right</th>\n",
       "      <th>avg_biascrimes_per_100k</th>\n",
       "    </tr>\n",
       "  </thead>\n",
       "  <tbody>\n",
       "    <tr>\n",
       "      <th>0</th>\n",
       "      <td>1</td>\n",
       "      <td>42278</td>\n",
       "      <td>0.060</td>\n",
       "      <td>0.64</td>\n",
       "      <td>0.821</td>\n",
       "      <td>0.02</td>\n",
       "      <td>0.12</td>\n",
       "      <td>0.472</td>\n",
       "      <td>0.35</td>\n",
       "      <td>0.63</td>\n",
       "      <td>1.806410</td>\n",
       "    </tr>\n",
       "    <tr>\n",
       "      <th>1</th>\n",
       "      <td>2</td>\n",
       "      <td>67629</td>\n",
       "      <td>0.064</td>\n",
       "      <td>0.63</td>\n",
       "      <td>0.914</td>\n",
       "      <td>0.04</td>\n",
       "      <td>0.06</td>\n",
       "      <td>0.422</td>\n",
       "      <td>0.42</td>\n",
       "      <td>0.53</td>\n",
       "      <td>1.656700</td>\n",
       "    </tr>\n",
       "    <tr>\n",
       "      <th>2</th>\n",
       "      <td>3</td>\n",
       "      <td>49254</td>\n",
       "      <td>0.063</td>\n",
       "      <td>0.90</td>\n",
       "      <td>0.842</td>\n",
       "      <td>0.10</td>\n",
       "      <td>0.09</td>\n",
       "      <td>0.455</td>\n",
       "      <td>0.49</td>\n",
       "      <td>0.50</td>\n",
       "      <td>3.413928</td>\n",
       "    </tr>\n",
       "    <tr>\n",
       "      <th>3</th>\n",
       "      <td>4</td>\n",
       "      <td>44922</td>\n",
       "      <td>0.052</td>\n",
       "      <td>0.69</td>\n",
       "      <td>0.824</td>\n",
       "      <td>0.04</td>\n",
       "      <td>0.12</td>\n",
       "      <td>0.458</td>\n",
       "      <td>0.26</td>\n",
       "      <td>0.60</td>\n",
       "      <td>0.869209</td>\n",
       "    </tr>\n",
       "    <tr>\n",
       "      <th>4</th>\n",
       "      <td>5</td>\n",
       "      <td>60487</td>\n",
       "      <td>0.059</td>\n",
       "      <td>0.97</td>\n",
       "      <td>0.806</td>\n",
       "      <td>0.13</td>\n",
       "      <td>0.09</td>\n",
       "      <td>0.471</td>\n",
       "      <td>0.61</td>\n",
       "      <td>0.33</td>\n",
       "      <td>2.397986</td>\n",
       "    </tr>\n",
       "  </tbody>\n",
       "</table>\n",
       "</div>"
      ],
      "text/plain": [
       "   region  median_household_income  share_unemployed_seasonal  \\\n",
       "0       1                    42278                      0.060   \n",
       "1       2                    67629                      0.064   \n",
       "2       3                    49254                      0.063   \n",
       "3       4                    44922                      0.052   \n",
       "4       5                    60487                      0.059   \n",
       "\n",
       "   share_population_in_metro_areas  share_population_with_high_school_degree  \\\n",
       "0                             0.64                                     0.821   \n",
       "1                             0.63                                     0.914   \n",
       "2                             0.90                                     0.842   \n",
       "3                             0.69                                     0.824   \n",
       "4                             0.97                                     0.806   \n",
       "\n",
       "   share_non_citizen  share_white_poverty  gini_index  share_non_white  \\\n",
       "0               0.02                 0.12       0.472             0.35   \n",
       "1               0.04                 0.06       0.422             0.42   \n",
       "2               0.10                 0.09       0.455             0.49   \n",
       "3               0.04                 0.12       0.458             0.26   \n",
       "4               0.13                 0.09       0.471             0.61   \n",
       "\n",
       "   share_voters_voted_to_the_right  avg_biascrimes_per_100k  \n",
       "0                             0.63                 1.806410  \n",
       "1                             0.53                 1.656700  \n",
       "2                             0.50                 3.413928  \n",
       "3                             0.60                 0.869209  \n",
       "4                             0.33                 2.397986  "
      ]
     },
     "execution_count": 15,
     "metadata": {},
     "output_type": "execute_result"
    }
   ],
   "source": [
    "# add code here\n",
    "\n",
    "# Importing the necessary library\n",
    "import pandas as pd \n",
    "\n",
    "\n",
    "# Reading the csv files\n",
    "df1 = pd.read_csv('task2a.csv')\n",
    "df2 = pd.read_csv('task2b.csv')\n",
    "\n",
    "# Merging the two csv files on the region column into one csv file called new_df. \n",
    "merged_df = pd.merge(df1, df2, on=\"region\")\n",
    "merged_df.head()\n",
    "# cleaned_df"
   ]
  },
  {
   "cell_type": "markdown",
   "metadata": {
    "deletable": false
   },
   "source": [
    "<p style=\"color:red; font-weight:bold; font-size:xx-small\">MARK: __%</p>\n",
    "<p style=\"color:red; font-weight:bold; font-size:xx-small\">FEEDBACK: </p>"
   ]
  },
  {
   "cell_type": "markdown",
   "metadata": {
    "deletable": false
   },
   "source": [
    "### Requirement FR10 - Clean the merged data"
   ]
  },
  {
   "cell_type": "code",
   "execution_count": 16,
   "metadata": {},
   "outputs": [
    {
     "data": {
      "text/html": [
       "<div>\n",
       "<style scoped>\n",
       "    .dataframe tbody tr th:only-of-type {\n",
       "        vertical-align: middle;\n",
       "    }\n",
       "\n",
       "    .dataframe tbody tr th {\n",
       "        vertical-align: top;\n",
       "    }\n",
       "\n",
       "    .dataframe thead th {\n",
       "        text-align: right;\n",
       "    }\n",
       "</style>\n",
       "<table border=\"1\" class=\"dataframe\">\n",
       "  <thead>\n",
       "    <tr style=\"text-align: right;\">\n",
       "      <th></th>\n",
       "      <th>region</th>\n",
       "      <th>median_household_income</th>\n",
       "      <th>share_unemployed_seasonal</th>\n",
       "      <th>share_population_in_metro_areas</th>\n",
       "      <th>share_population_with_high_school_degree</th>\n",
       "      <th>share_non_citizen</th>\n",
       "      <th>share_white_poverty</th>\n",
       "      <th>gini_index</th>\n",
       "      <th>share_non_white</th>\n",
       "      <th>avg_biascrimes_per_100k</th>\n",
       "    </tr>\n",
       "  </thead>\n",
       "  <tbody>\n",
       "    <tr>\n",
       "      <th>0</th>\n",
       "      <td>1</td>\n",
       "      <td>42278</td>\n",
       "      <td>0.060</td>\n",
       "      <td>0.64</td>\n",
       "      <td>0.821</td>\n",
       "      <td>0.02</td>\n",
       "      <td>0.12</td>\n",
       "      <td>0.472</td>\n",
       "      <td>0.35</td>\n",
       "      <td>1.806410</td>\n",
       "    </tr>\n",
       "    <tr>\n",
       "      <th>1</th>\n",
       "      <td>2</td>\n",
       "      <td>67629</td>\n",
       "      <td>0.064</td>\n",
       "      <td>0.63</td>\n",
       "      <td>0.914</td>\n",
       "      <td>0.04</td>\n",
       "      <td>0.06</td>\n",
       "      <td>0.422</td>\n",
       "      <td>0.42</td>\n",
       "      <td>1.656700</td>\n",
       "    </tr>\n",
       "    <tr>\n",
       "      <th>2</th>\n",
       "      <td>3</td>\n",
       "      <td>49254</td>\n",
       "      <td>0.063</td>\n",
       "      <td>0.90</td>\n",
       "      <td>0.842</td>\n",
       "      <td>0.10</td>\n",
       "      <td>0.09</td>\n",
       "      <td>0.455</td>\n",
       "      <td>0.49</td>\n",
       "      <td>3.413928</td>\n",
       "    </tr>\n",
       "    <tr>\n",
       "      <th>3</th>\n",
       "      <td>4</td>\n",
       "      <td>44922</td>\n",
       "      <td>0.052</td>\n",
       "      <td>0.69</td>\n",
       "      <td>0.824</td>\n",
       "      <td>0.04</td>\n",
       "      <td>0.12</td>\n",
       "      <td>0.458</td>\n",
       "      <td>0.26</td>\n",
       "      <td>0.869209</td>\n",
       "    </tr>\n",
       "    <tr>\n",
       "      <th>4</th>\n",
       "      <td>5</td>\n",
       "      <td>60487</td>\n",
       "      <td>0.059</td>\n",
       "      <td>0.97</td>\n",
       "      <td>0.806</td>\n",
       "      <td>0.13</td>\n",
       "      <td>0.09</td>\n",
       "      <td>0.471</td>\n",
       "      <td>0.61</td>\n",
       "      <td>2.397986</td>\n",
       "    </tr>\n",
       "  </tbody>\n",
       "</table>\n",
       "</div>"
      ],
      "text/plain": [
       "   region  median_household_income  share_unemployed_seasonal  \\\n",
       "0       1                    42278                      0.060   \n",
       "1       2                    67629                      0.064   \n",
       "2       3                    49254                      0.063   \n",
       "3       4                    44922                      0.052   \n",
       "4       5                    60487                      0.059   \n",
       "\n",
       "   share_population_in_metro_areas  share_population_with_high_school_degree  \\\n",
       "0                             0.64                                     0.821   \n",
       "1                             0.63                                     0.914   \n",
       "2                             0.90                                     0.842   \n",
       "3                             0.69                                     0.824   \n",
       "4                             0.97                                     0.806   \n",
       "\n",
       "   share_non_citizen  share_white_poverty  gini_index  share_non_white  \\\n",
       "0               0.02                 0.12       0.472             0.35   \n",
       "1               0.04                 0.06       0.422             0.42   \n",
       "2               0.10                 0.09       0.455             0.49   \n",
       "3               0.04                 0.12       0.458             0.26   \n",
       "4               0.13                 0.09       0.471             0.61   \n",
       "\n",
       "   avg_biascrimes_per_100k  \n",
       "0                 1.806410  \n",
       "1                 1.656700  \n",
       "2                 3.413928  \n",
       "3                 0.869209  \n",
       "4                 2.397986  "
      ]
     },
     "execution_count": 16,
     "metadata": {},
     "output_type": "execute_result"
    }
   ],
   "source": [
    "# add code here\n",
    "\n",
    "# Dropping all the rows in the new dataframe that have missing values. \n",
    "dropped_na_df = merged_df.dropna()\n",
    "\n",
    "# Dropping the unnessary share_voters_voted_to_the_right column\n",
    "cleaned_df = dropped_na_df.drop(columns= ['share_voters_voted_to_the_right'])\n",
    "\n",
    "\n",
    "# Printing the values to confirm that the column has been properly dropped.\n",
    "cleaned_df.head()\n",
    "\n"
   ]
  },
  {
   "cell_type": "markdown",
   "metadata": {
    "deletable": false
   },
   "source": [
    "<p style=\"color:red; font-weight:bold; font-size:xx-small\">MARK: __%</p>\n",
    "<p style=\"color:red; font-weight:bold; font-size:xx-small\">FEEDBACK: </p>"
   ]
  },
  {
   "cell_type": "markdown",
   "metadata": {
    "deletable": false
   },
   "source": [
    "### Requirement FR11 - Investigate the effects of household income on levels of bias crimes"
   ]
  },
  {
   "cell_type": "code",
   "execution_count": 19,
   "metadata": {},
   "outputs": [
    {
     "data": {
      "image/png": "[encoded data removed]",
      "text/plain": [
       "<Figure size 720x504 with 1 Axes>"
      ]
     },
     "metadata": {
      "needs_background": "light"
     },
     "output_type": "display_data"
    }
   ],
   "source": [
    "# add code here\n",
    "\n",
    "# Importing the necessary library\n",
    "import matplotlib.pyplot as plt\n",
    "import numpy as np\n",
    "# Setting the aesthetic style\n",
    "plt.style.use('seaborn-whitegrid')\n",
    "# Set the plots to be directly stored in the notebook\n",
    "%matplotlib inline\n",
    "\n",
    "# Setting the figure size \n",
    "fig = plt.figure(figsize = (10, 7))\n",
    "x = cleaned_df['median_household_income']\n",
    "y = cleaned_df['avg_biascrimes_per_100k']\n",
    "\n",
    "# Produce the scatter plot while specifying the x and y axis \n",
    "plt.scatter(x, y, marker='o')\n",
    "\n",
    "\n",
    "# Give the plot a title. \n",
    "plt.title(\"Correlation Between Median Household Income and Level of Bias Crime\", loc = 'left', \n",
    "fontname=\"Times New Roman\", size=16,fontweight=\"bold\")\n",
    "\n",
    "# Label the x-axis \n",
    "plt.xlabel(\"Median Household Income\")\n",
    "# Label the y-axis \n",
    "plt.ylabel(\"Average Bias Crimes Per 100 Thousand\")\n",
    "\n",
    "# Adding a linear regression line to help with interpretation.\n",
    "slope, intercept = np.polyfit(x, y, 1) \n",
    "plt.plot(x, slope*x+intercept);\n",
    "\n",
    "# Since we are working in a IPython shell, plt.show() is unnecessary, hence, I will not be using it. \n",
    "\n",
    "\n",
    "# Higher bias crimes with increase in income. However it isn't significant as the correlation is very low.\n",
    "# pd.DataFrame(new_df.corr()['avg_biascrimes_per_100k'].sort_values())"
   ]
  },
  {
   "cell_type": "markdown",
   "metadata": {},
   "source": [
    "From the graph above and the linear regression line above, it can be assumed that there is some correlation beween Median Household Income and Average Bias crimes per 100k. Looking at the scatter plot, the average number of bias crimes seem to increase as the median household income increases. From the direction of the linear regression line as well, we can also see the correlation as well as see that it is positive. \n",
    "\n",
    "There is also an outlier around 68000 household income."
   ]
  },
  {
   "cell_type": "markdown",
   "metadata": {
    "deletable": false
   },
   "source": [
    "<p style=\"color:red; font-weight:bold; font-size:xx-small\">MARK: __%</p>\n",
    "<p style=\"color:red; font-weight:bold; font-size:xx-small\">FEEDBACK: </p>"
   ]
  },
  {
   "cell_type": "markdown",
   "metadata": {
    "deletable": false
   },
   "source": [
    "### Requirement FR12 - Test the hypothesis that household income has no effect on levels of bias crime"
   ]
  },
  {
   "cell_type": "code",
   "execution_count": 18,
   "metadata": {},
   "outputs": [
    {
     "name": "stdout",
     "output_type": "stream",
     "text": [
      "The correlation between the two columns is 0.2958187026076811, the p value from the hypothesis test is 0.04350240682185771\n"
     ]
    }
   ],
   "source": [
    "# Calculating the correllation coefficient using pearsonr in the scipy.stats function.\n",
    "# I am using Pearson’s correlation which is the standard correlation coefficient\n",
    "from scipy.stats import pearsonr\n",
    "x = cleaned_df['median_household_income']\n",
    "y = cleaned_df['avg_biascrimes_per_100k']\n",
    "\n",
    "# Correlating the two columns\n",
    "corr, p_value = pearsonr(x, y)\n",
    "# Printing the correlation of the two columns\n",
    "print(f'The correlation between the two columns is {corr}, the p value from the hypothesis test is {p_value}')"
   ]
  },
  {
   "cell_type": "markdown",
   "metadata": {},
   "source": [
    "From the value I have gotten from the correlation between household income and bias crime, it is revealed that there is a positive correlation, between the two columns, also, looking at the p-value from this output, since the value is below 0.05, it indicates that there is a correlation between household income and bias crime, hence, we reject the hypothesis that household income has no effect on the level of bias crime. It can therefore be concluded that the hypothesis is not valid. "
   ]
  },
  {
   "cell_type": "markdown",
   "metadata": {
    "deletable": false
   },
   "source": [
    "<p style=\"color:red; font-weight:bold; font-size:xx-small\">MARK: __%</p>\n",
    "<p style=\"color:red; font-weight:bold; font-size:xx-small\">FEEDBACK: </p>"
   ]
  },
  {
   "cell_type": "markdown",
   "metadata": {
    "deletable": false
   },
   "source": [
    "### Requirement FR13 - Investigate the effects of urbanisation on levels of bias crimes"
   ]
  },
  {
   "cell_type": "code",
   "execution_count": 6,
   "metadata": {},
   "outputs": [
    {
     "data": {
      "image/png": "[encoded data removed]",
      "text/plain": [
       "<Figure size 720x504 with 1 Axes>"
      ]
     },
     "metadata": {
      "needs_background": "light"
     },
     "output_type": "display_data"
    }
   ],
   "source": [
    "# add code here\n",
    "# add code here\n",
    "\n",
    "# Importing the necessary library\n",
    "import matplotlib.pyplot as plt\n",
    "# Setting the aesthetic style\n",
    "plt.style.use('seaborn-whitegrid')\n",
    "# Set the plots to be directly stored in the notbook\n",
    "%matplotlib inline\n",
    "\n",
    "# Setting the figure size \n",
    "fig = plt.figure(figsize = (10, 7))\n",
    "\n",
    "# Produce the scatter plot while specifying the x and y axis \n",
    "plt.scatter(cleaned_df['share_population_in_metro_areas'], cleaned_df['avg_biascrimes_per_100k'], marker='o')\n",
    "\n",
    "\n",
    "# Give the plot a title. \n",
    "plt.title(\"Correlation Between Median Household Income and Level of Bias Crime\", loc = 'left', \n",
    "fontname=\"Times New Roman\", size=16,fontweight=\"bold\")\n",
    "\n",
    "# Label the x-axis \n",
    "plt.xlabel(\"Share Population in Metro Areas\")\n",
    "# Label the y-axis \n",
    "plt.ylabel(\"Average Bias Crimes Per 100 Thousand\")\n",
    "\n",
    "# Adding a linear regression line to help with interpretation.\n",
    "slope, intercept = np.polyfit(cleaned_df['share_population_in_metro_areas'], cleaned_df['avg_biascrimes_per_100k'], 1) \n",
    "plt.plot(cleaned_df['share_population_in_metro_areas'], slope*cleaned_df['share_population_in_metro_areas']+intercept);\n",
    "\n"
   ]
  },
  {
   "cell_type": "markdown",
   "metadata": {},
   "source": [
    "From the graph above and the linear regression line above, it can be assumed that there is no significant correlation beween the share of the population in the metro areas and Average Bias crimes per 100k. As there is no significant difference in the average bias crime of low populated areas and the high populated areas. \n",
    "\n",
    "From the graph, we can also see that as the share population in metro area increases, there is a higher cluster of bias crimes. This is expected as the bias crime is a function of 100,000 of the population, more population means more bias crimes, but on an average, the bias crimes are almost at the same level as those of the less populated areas. "
   ]
  },
  {
   "cell_type": "markdown",
   "metadata": {
    "deletable": false
   },
   "source": [
    "<p style=\"color:red; font-weight:bold; font-size:xx-small\">MARK: __%</p>\n",
    "<p style=\"color:red; font-weight:bold; font-size:xx-small\">FEEDBACK: </p>"
   ]
  },
  {
   "cell_type": "markdown",
   "metadata": {
    "deletable": false
   },
   "source": [
    "### Requirement FR14 - Test the hypothesis that urbanisation has a significant effect on levels of bias crimes"
   ]
  },
  {
   "cell_type": "code",
   "execution_count": 14,
   "metadata": {},
   "outputs": [
    {
     "name": "stdout",
     "output_type": "stream",
     "text": [
      "The correlation between the two columns is 0.2094627680978497, the p value from the hypothesis test is 0.1576360341620947\n"
     ]
    }
   ],
   "source": [
    "# add code here\n",
    "\n",
    "# Calculating the correllation coefficient using pearsonr in the scipy.stats function.\n",
    "# I am using Pearson’s correlation which is the standard correlation coefficient\n",
    "from scipy.stats import pearsonr\n",
    "x = cleaned_df['share_population_in_metro_areas']\n",
    "y = cleaned_df['avg_biascrimes_per_100k']\n",
    "\n",
    "# Correlating the two columns\n",
    "corr, p_value = pearsonr(x, y)\n",
    "# Printing the correlation of the two columns\n",
    "print(f'The correlation between the two columns is {corr}, the p value from the hypothesis test is {p_value}')\n"
   ]
  },
  {
   "cell_type": "markdown",
   "metadata": {},
   "source": [
    "From the value which I have gotten from the correlation between the degree of urbanisation and bias crime, it is revealved that there is a positive correllation between the two columns. However, from the p-value which is greater than 0.05 the correlation coefficient is not statitically significant, hence it can be concluded that the share of population in metro area (degree of urbanization) has no significant effect on bias crime. Hence, we reject the hypothesis that urbanization has a significant effect on level of bias crime. "
   ]
  },
  {
   "cell_type": "markdown",
   "metadata": {
    "deletable": false
   },
   "source": [
    "<p style=\"color:red; font-weight:bold; font-size:xx-small\">MARK: __%</p>\n",
    "<p style=\"color:red; font-weight:bold; font-size:xx-small\">FEEDBACK: </p>"
   ]
  },
  {
   "cell_type": "markdown",
   "metadata": {
    "deletable": false
   },
   "source": [
    "# Coding Standards\n",
    "<p style=\"color:red; font-weight:bold; font-size:xx-small\">MARK: __%</p>\n",
    "<p style=\"color:red; font-weight:bold; font-size:xx-small\">FEEDBACK: </p>"
   ]
  },
  {
   "cell_type": "markdown",
   "metadata": {},
   "source": [
    "# Process Development Report for Task 2\n"
   ]
  },
  {
   "cell_type": "markdown",
   "metadata": {},
   "source": [
    "### REFLECTIVE REPORT ON TASK 2. \n",
    "\n",
    "The purpose of this task was to test my use of NumPy/SciPy, Pandas, and Matplotlib/Seaborn to combine, clean and analyze two datasets related to bias crime. The tutor provided us with two datasets containing background information about the residents of 51 regions, as well as information about bias crimes (per 100,000 residents) for each region.\n",
    "\n",
    "Reading in the csv files was quite straightforward as I had done this numerous times. In this occasion, I opted to use pandas to read in the csv files. I could have used numpy as well for this, however, Pandas is specially designed to handle large datasets and it is also easily customizable. I loaded the two csv files into two separate dataframes. \n",
    "\n",
    "The next task was to merge the two dataframes into one dataframe. Before doing that, I examined the files and realized that they had one column in common (region). I found out that I couldn’t use the concatenate function in pandas (pd.concat) but the merge function. I specified that the dataframes should be merged on the region column. This automatically meant that only one of the columns will remain. \n",
    "\n",
    "The next task involved dropping the missing values as well as the unnecessary column. I achieve these two by equating my output to a new variable. I could also have done these on the same variable by setting inplace to true. \n",
    "\n",
    "Psuedocode for this task: \n",
    "```\n",
    "READ the csv files\n",
    "MERGE the files on region\n",
    "DROP Na values \n",
    "DROP unnecessary column \n",
    "```\n",
    "\n",
    "The visualization process for the correlations was also straightforward, I opted to use the matplotlib library, as matplotlib is more customizable and powerful. I also used a regression line to show the correlation between the columns that were to be tested. I did this to have a better visual representation of the correlation. \n",
    "\n",
    "Psuedocode for this task: \n",
    "```\n",
    "IMPORT necessary libraries \n",
    "SET style of graph \n",
    "SET size of graph \n",
    "SET necessary columns and PLOT scatter plot\n",
    "SET graph title \n",
    "SET x-axis label \n",
    "SET y-axis label \n",
    "PLOT regression line\n",
    "```\n",
    "For the tasks on hypothesis testing, my understanding of correlation test and p-value from statistics were very helpful. I was able to explain the correlation between the two columns as well as the significance of this correlation. \n",
    "\n",
    "```\n",
    "IMPORT necessary libraries \n",
    "COMPUTE correlation and p-value.\n",
    "```\n",
    "\n",
    "\n"
   ]
  },
  {
   "cell_type": "markdown",
   "metadata": {},
   "source": [
    "<p style=\"color:red; font-weight:bold; font-size:xx-small\">MARK: __%</p>\n",
    "<p style=\"color:red; font-weight:bold; font-size:xx-small\">FEEDBACK: </p>"
   ]
  }
 ],
 "metadata": {
  "kernelspec": {
   "display_name": "Python 3",
   "language": "python",
   "name": "python3"
  },
  "language_info": {
   "codemirror_mode": {
    "name": "ipython",
    "version": 3
   },
   "file_extension": ".py",
   "mimetype": "text/x-python",
   "name": "python",
   "nbconvert_exporter": "python",
   "pygments_lexer": "ipython3",
   "version": "3.10.1"
  }
 },
 "nbformat": 4,
 "nbformat_minor": 4
}
