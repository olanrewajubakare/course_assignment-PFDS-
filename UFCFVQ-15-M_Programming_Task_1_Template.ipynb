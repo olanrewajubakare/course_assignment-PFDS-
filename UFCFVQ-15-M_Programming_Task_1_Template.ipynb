{
 "cells": [
  {
   "cell_type": "markdown",
   "metadata": {},
   "source": [
    "# UFCFVQ-15-M Programming for Data Science (Autumn 2021)\n",
    "# Programming Task 1\n",
    "\n",
    "## Student Id: 21028769"
   ]
  },
  {
   "cell_type": "markdown",
   "metadata": {
    "deletable": false
   },
   "source": [
    "<p style=\"color:red; font-weight:bold; font-size:xx-small\">OVERALL COURSEWORK MARK: ___%</p>"
   ]
  },
  {
   "cell_type": "markdown",
   "metadata": {
    "deletable": false
   },
   "source": [
    "### Requirement FR1 - Develop a function to find the arithmetic mean"
   ]
  },
  {
   "cell_type": "code",
   "execution_count": 1,
   "metadata": {},
   "outputs": [
    {
     "name": "stdout",
     "output_type": "stream",
     "text": [
      "15.333333333333334\n"
     ]
    }
   ],
   "source": [
    "# add code here\n",
    "\n",
    "def arithmetic_mean(list_of_values: list):  \n",
    "    \"\"\"Function to find the arithmetic mean of a list\"\"\"\n",
    "    return sum(list_of_values)/len(list_of_values)\n",
    " \n",
    "\n",
    "list_of_values = [6, 2, 22, 21, 24, 23, 8, 9, 5, 3, 11, 28, 14, 13, 12, 26, 29, 16, 15, 20, 25, 1, 10, 18, 27, 19, 7]\n",
    "print(arithmetic_mean(list_of_values))"
   ]
  },
  {
   "cell_type": "markdown",
   "metadata": {
    "deletable": false
   },
   "source": [
    "<p style=\"color:red; font-weight:bold; font-size:xx-small\">MARK: __%</p>\n",
    "<p style=\"color:red; font-weight:bold; font-size:xx-small\">FEEDBACK: </p>"
   ]
  },
  {
   "cell_type": "markdown",
   "metadata": {
    "deletable": false
   },
   "source": [
    "### Requirement FR2 - Develop a function to find the standard deviation"
   ]
  },
  {
   "cell_type": "code",
   "execution_count": 10,
   "metadata": {},
   "outputs": [
    {
     "name": "stdout",
     "output_type": "stream",
     "text": [
      "8.393118874676114\n"
     ]
    }
   ],
   "source": [
    "# add code here\n",
    "\n",
    "\n",
    "def std_dev(list_of_values: list): \n",
    "    \"\"\"Function to calculate standard deviation of a list of values using the standard deviation formular for population\"\"\"\n",
    "    summ = 0 \n",
    "    \n",
    "    n = len(list_of_values)\n",
    "    \n",
    "    avg = arithmetic_mean(list_of_values)\n",
    "    \n",
    "    for i in list_of_values: \n",
    "        summ += ((i - (avg)) **2)\n",
    "    std = (summ/n)**0.5\n",
    "    return std\n",
    "    \n",
    "list_of_values = [6, 2, 22, 21, 24, 23, 8, 9, 5, 3, 11, 28, 14, 13, 12, 26, 29, 16, 15, 20, 25, 1, 10, 18, 27, 19, 7]\n",
    "print(std_dev(list_of_values))\n",
    "\n"
   ]
  },
  {
   "cell_type": "markdown",
   "metadata": {
    "deletable": false
   },
   "source": [
    "<p style=\"color:red; font-weight:bold; font-size:xx-small\">MARK: __%</p>\n",
    "<p style=\"color:red; font-weight:bold; font-size:xx-small\">FEEDBACK: </p>"
   ]
  },
  {
   "cell_type": "markdown",
   "metadata": {
    "deletable": false
   },
   "source": [
    "### Requirement FR3 - Develop a function to find the min/max values and count "
   ]
  },
  {
   "cell_type": "code",
   "execution_count": 11,
   "metadata": {},
   "outputs": [
    {
     "name": "stdout",
     "output_type": "stream",
     "text": [
      "(1, 29, 27)\n"
     ]
    }
   ],
   "source": [
    "# add code here\n",
    "\n",
    "def min_max_count(list_of_values: list): \n",
    "    \"\"\"Function to get the minimum values, maximum values and the length of a list of values\"\"\"\n",
    "    # Sort all the values in the list \n",
    "    list_of_values.sort()\n",
    "    min_val = list_of_values[0]\n",
    "    max_val = list_of_values[-1]\n",
    "    count_val = len(list_of_values)\n",
    "    \n",
    "    return min_val, max_val, count_val\n",
    "\n",
    "\n",
    "lst = [6, 2, 22, 21, 24, 23, 8, 9, 5, 3, 11, 28, 14, 13, 12, 26, 29, 16, 15, 20, 25, 1, 10, 18, 27, 19, 7]\n",
    "print(min_max_count(lst))\n",
    "   "
   ]
  },
  {
   "cell_type": "markdown",
   "metadata": {
    "deletable": false
   },
   "source": [
    "<p style=\"color:red; font-weight:bold; font-size:xx-small\">MARK: __%</p>\n",
    "<p style=\"color:red; font-weight:bold; font-size:xx-small\">FEEDBACK: </p>"
   ]
  },
  {
   "cell_type": "markdown",
   "metadata": {
    "deletable": false
   },
   "source": [
    "### Requirement FR4 - Develop a function to find the 25th, 50th and 75th percentiles "
   ]
  },
  {
   "cell_type": "code",
   "execution_count": 12,
   "metadata": {},
   "outputs": [
    {
     "name": "stdout",
     "output_type": "stream",
     "text": [
      "[8, 15, 23]\n"
     ]
    }
   ],
   "source": [
    "# add code here\n",
    "\n",
    "def percentiles(list_of_values: list):\n",
    "    \"\"\"Function to calculate rank of the 25th, 50th and 75th percentile of a list of values \n",
    "    using greater or equal to\"\"\"\n",
    "    \n",
    "    percentiles = [25, 50, 75]\n",
    "    \n",
    "    ranks = []\n",
    "    list_of_values.sort()\n",
    "    n = len(list_of_values)\n",
    "\n",
    "    for i in percentiles:\n",
    "\n",
    "        percentile_val = (i * (n+1))/100\n",
    "        \n",
    "\n",
    "        remainder = (i * (n+1) % 100)\n",
    "        \n",
    "        if remainder == 0: \n",
    "            \n",
    "            rank = list_of_values[int(percentile_val)-1]\n",
    "        else: \n",
    "            rank = list_of_values[int(percentile_val)]\n",
    "        ranks.append(rank)\n",
    "    return ranks\n",
    "    \n",
    "list_of_values = [6, 2, 22, 21, 24, 23, 8, 9, 5, 3, 11, 28, 14, 13, 12, 26, 29, 16, 15, 20, 25, 1, 10, 18, 27, 19, 7]\n",
    "# a = [1,2,3,4,5] \n",
    "print(percentiles(list_of_values))\n",
    "# print(percentiles(a))"
   ]
  },
  {
   "cell_type": "markdown",
   "metadata": {
    "deletable": false
   },
   "source": [
    "<p style=\"color:red; font-weight:bold; font-size:xx-small\">MARK: __%</p>\n",
    "<p style=\"color:red; font-weight:bold; font-size:xx-small\">FEEDBACK: </p>"
   ]
  },
  {
   "cell_type": "markdown",
   "metadata": {
    "deletable": false
   },
   "source": [
    "### Requirement FR5 - Develop a function to read a single column from a CSV file"
   ]
  },
  {
   "cell_type": "code",
   "execution_count": 13,
   "metadata": {
    "scrolled": true
   },
   "outputs": [
    {
     "name": "stdout",
     "output_type": "stream",
     "text": [
      "('Other', ['0', '2.29693941', '3.539346', '4.763252129', '0.0811', '0.008019927', '0.109149431', '5.427544126', '52.88998503', '0.496261903', '0.679177831', '9.588635536', '6.737367486', '90.72346175', '2.088838157', '0.682716361', '0.05136', '4.7285', '6.119796142', '0.427967651', '0', '1.369850244', '0.23331662', '12.86168421', '8.521197318', '51.437', '0.298303335', '0.100724044', '2.371182482', '6.009414916', '30.45869682', '14.5368', '0.021740437', '0', '1.242427268', '0.115', '25.31219835', '33.6554308', '0.0024284', '0', '0.962146042', '0.47', '0.226101964', '0.05405', '1.004339878', '6.480283932', '0', '4.875860296', '8.320907599', '0.178266653', '0', '0.163131005', '0.022', '1.39699069', '0.0041', '', '2.647315578', '0.222533905', '1.667658529', '0.674414968', '11.540128', '6.331', '3.439', '0.114486339', '0.4617102', '0.4645', '0', '0.903', '1.419478261', '0.28827567', '0.530431005', '10.1747942', '7.378921565', '0.11339364', '11.85871366', '1.974071402', '2.01435', '12.31650175', '0', '9.983786807', '0', '0.218506543', '0.005983607', '35.58660245', '83.67703684', '0', '0', '0.060833333'])\n"
     ]
    }
   ],
   "source": [
    "def read_single_column(csv_filename, column):\n",
    "    \"\"\"Function to read a specific column of a csv file\"\"\"\n",
    "    list_of_values = []\n",
    "    with open(csv_filename, 'r') as f:\n",
    "        # Read through each line in the csv\n",
    "        for line in f:\n",
    "            \n",
    "            values = line.split(',')\n",
    "\n",
    "            list_of_values.append(values[column].strip('\\n')) \n",
    "    column_name = list_of_values.pop(0)\n",
    "            \n",
    "    return column_name, list_of_values\n",
    "\n",
    "print(read_single_column('task1.csv', 3))"
   ]
  },
  {
   "cell_type": "markdown",
   "metadata": {
    "deletable": false
   },
   "source": [
    "<p style=\"color:red; font-weight:bold; font-size:xx-small\">MARK: __%</p>\n",
    "<p style=\"color:red; font-weight:bold; font-size:xx-small\">FEEDBACK: </p>"
   ]
  },
  {
   "cell_type": "markdown",
   "metadata": {
    "deletable": false
   },
   "source": [
    "### Requirement FR6 - Develop a function to read CSV data from a file into memory"
   ]
  },
  {
   "cell_type": "code",
   "execution_count": 14,
   "metadata": {},
   "outputs": [
    {
     "name": "stdout",
     "output_type": "stream",
     "text": [
      "{\n",
      "'Hydropower': ['0.117', '41.64945459', '17.26791', '37.52781287', '1.76795', '0.885632595', '0.45726487', '0.284810423', '387.6868063', '5.125584584', '244.839096', '387.2508762', '23.14438369', '1202.43', '56.64701407', '7.512550207', '0', '1.6272', '0.016454789', '20.69612073', '13.48338', '0.015617162', '38.93203591', '13.27777778', '64.2234218', '16.9', '5.720179713', '0', '0.221', '13.81099543', '139.6678322', '16.4112', '10.77', '3.1074588', '0.694087982', '0.0245', '45.85205715', '80.997', '10.3295118', '0', '2.433342329', '0.45', '0.094557415', '1.791368', '24.17649672', '32.39511459', '1.6934', '0.072348', '26.32037732', '138.4962175', '0', '62.91198244', '35.20305729', '2.255678699', '1.288541272', '0.0165', '69.46684307', '1.852952842', '35.99700727', '30.76868807', '9.383758', '1.971', '12.346', '0', '17.56396055', '190.21311', '0', '0', '3.591', '4.712487886', '0.914864856', '2.920390756', '35.19825724', '6.369370161', '61.91687566', '34.80394017', '4.4661', '7.597013', '0', '59.51828075', '0', '9.900734781', '0', '5.464660531', '288.7063404', '6.868202', '72.08394993', '80.70625435'],\n",
      "'Solar': ['0.603', '0.108128528', '12.081099', '1.578641473', '0.03926', '0.299208359', '0.134485968', '3.971724224', '3.137078404', '1.103538835', '0.881300118', '3.5462509', '5.118720829', '177.5', '0.011999821', '0.073591668', '0.19183', '2.3386', '0.952973', '0.037991538', '1.035739071', '0.012679515', '0.441810565', '0.1622', '10.15871272', '46.164', '3.791092002', '0.000961', '0.588876056', '0', '30.73240318', '0.01836', '0.037698887', '0.057143443', '0.022173967', '1.793230515', '23.23072906', '71.6883359', '0.1146904', '0.088143148', '0.001263953', '0.08', '0.117480937', '0.022788', '0.459692933', '2.2428', '0.9502', '3.2012', '0.098244292', '0.064488547', '0.013718674', '0.585723529', '0.01484375', '0.697743206', '3.020039802', '0.111623598', '0.675171297', '0.128029166', '2.12332226', '0.745192715', '1.249117', '0.299', '1.02', '0.009423834', '1.674', '0.57106', '0.154871783', '0.283982555', '0.585', '0.253621', '4.935234819', '9.349876912', '12.52057273', '0.205337811', '0.373100151', '1.957371429', '2.733', '4.719656655', '0.003989071', '7.890694078', '0.00696', '1.286493457', '0.9468835', '12.92181535', '97.11818182', '0', '0.010008089', '0.080231508'],\n",
      "'Wind': ['0.01', '1.412699784', '16.266484', '5.900014713', '0.0822', '0.005086066', '0.117978175', '7.468573702', '48.47990705', '1.378292235', '0.977082975', '32.17005152', '3.688710149', '366', '0.043437355', '1.379085419', '0.22061', '0.6093', '13.89880328', '0.080257771', '2.438966811', '0.633888557', '0.531134615', '5.857', '28.16738103', '111.59', '6.300269103', '0.000825', '0.608', '0.004365699', '60.31116', '0.198', '0.361973742', '0', '8.390989769', '0.105269485', '17.47251773', '6.789652', '0.5412648', '0.017452186', '0.123287671', '1.145', '0.307147387', '0.097338', '0', '12.62920683', '3.8407', '10.549225', '2.046003874', '3.875881', '0', '0.497064956', '0.0079', '1.428156269', '0.574940541', '0.453', '4.80031359', '0', '1.72268087', '1.493633864', '1.152924', '12.845', '12.657', '0', '6.497', '0.22774', '0', '0', '0.005', '0.006159', '6.894765181', '2.40369047', '50.83600814', '0.305662189', '16.81339144', '0.133', '1.6794', '0.76415852', '0', '19.825697', '0', '1.1274', '0.00075', '57.11571962', '277.7291061', '0', '0', '0.326664064'],\n",
      "'Other': ['0', '2.29693941', '3.539346', '4.763252129', '0.0811', '0.008019927', '0.109149431', '5.427544126', '52.88998503', '0.496261903', '0.679177831', '9.588635536', '6.737367486', '90.72346175', '2.088838157', '0.682716361', '0.05136', '4.7285', '6.119796142', '0.427967651', '0', '1.369850244', '0.23331662', '12.86168421', '8.521197318', '51.437', '0.298303335', '0.100724044', '2.371182482', '6.009414916', '30.45869682', '14.5368', '0.021740437', '0', '1.242427268', '0.115', '25.31219835', '33.6554308', '0.0024284', '0', '0.962146042', '0.47', '0.226101964', '0.05405', '1.004339878', '6.480283932', '0', '4.875860296', '8.320907599', '0.178266653', '0', '0.163131005', '0.022', '1.39699069', '0.0041', '', '2.647315578', '0.222533905', '1.667658529', '0.674414968', '11.540128', '6.331', '3.439', '0.114486339', '0.4617102', '0.4645', '0', '0.903', '1.419478261', '0.28827567', '0.530431005', '10.1747942', '7.378921565', '0.11339364', '11.85871366', '1.974071402', '2.01435', '12.31650175', '0', '9.983786807', '0', '0.218506543', '0.005983607', '35.58660245', '83.67703684', '0', '0', '0.060833333']\n",
      "}\n"
     ]
    }
   ],
   "source": [
    "# add code here\n",
    "\n",
    "def read_csv_into_memory(csv_filename):\n",
    "    \"\"\"Function to read all the columns in a csv file\"\"\" \n",
    "    data = {}\n",
    "    with open(csv_filename, 'r') as f:\n",
    "        name = next(f).strip('\\n').split(',')\n",
    "     \n",
    "    for i in range(len(name)): \n",
    "        column_name, values = read_single_column(csv_filename, i)\n",
    "        \n",
    "        data[column_name] = values\n",
    "\n",
    "    return data\n",
    "        \n",
    "\n",
    "# print(read_csv_into_memory('task1.csv'))\n",
    "print(\"{\" + \"\\n\" + \",\\n\".join(\"{!r}: {!r}\".format(k, v) for k, v in read_csv_into_memory('task1.csv').items()) + \"\\n\"+ \"}\")\n",
    "\n",
    "    "
   ]
  },
  {
   "cell_type": "markdown",
   "metadata": {
    "deletable": false
   },
   "source": [
    "<p style=\"color:red; font-weight:bold; font-size:xx-small\">MARK: __%</p>\n",
    "<p style=\"color:red; font-weight:bold; font-size:xx-small\">FEEDBACK: </p>"
   ]
  },
  {
   "cell_type": "markdown",
   "metadata": {
    "deletable": false
   },
   "source": [
    "### Requirement FR7 - Develop a function to generate a set of statistics for a given data file"
   ]
  },
  {
   "cell_type": "code",
   "execution_count": 15,
   "metadata": {},
   "outputs": [
    {
     "name": "stdout",
     "output_type": "stream",
     "text": [
      "{\n",
      "'Stats': ['Count', 'Mean', 'Stdev', 'Min', '25th', '50th', '75th', 'Max'],\n",
      "'Hydropower': [88, 48.821284107875, 143.6115654111956, 0.0, 0.885632595, 7.597013, 35.99700727, 1202.43],\n",
      "'Solar': [88, 6.617743776193181, 23.05016622882576, 0.0, 0.080231508, 0.585723529, 2.733, 177.5],\n",
      "'Wind': [88, 14.380072730647727, 50.17237934719126, 0.0, 0.0822, 0.977082975, 6.789652, 366.0],\n",
      "'Other': [87, 7.0139358669540215, 15.911752479774876, 0.0, 0.100724044, 0.903, 6.331, 90.72346175]\n",
      "}\n"
     ]
    }
   ],
   "source": [
    "# add code here\n",
    "\n",
    "def get_stats(csv_filename):\n",
    "    \n",
    "    \"\"\"Function to generate a set of statistics for a given data file\"\"\"\n",
    "\n",
    "    stats_dict = {\n",
    "        \"Stats\": [\"Count\", \"Mean\", \"Stdev\", \"Min\", \"25th\", \"50th\", \"75th\", \"Max\"],\n",
    "    }\n",
    " \n",
    "    for key, values in read_csv_into_memory(csv_filename).items():    \n",
    "        actual_values = []\n",
    "        for value in values: \n",
    "            try: \n",
    "                item = float(value)\n",
    "                actual_values.append(item)\n",
    "            except ValueError: \n",
    "                pass\n",
    "        stats_dict[key] = [min_max_count(actual_values)[2],  # Count\n",
    "                           arithmetic_mean(actual_values),  # Mean\n",
    "                           std_dev(actual_values),  # Stdev\n",
    "                           min_max_count(actual_values)[0],  # Min\n",
    "                           percentiles(actual_values)[0],  # 25th\n",
    "                           percentiles(actual_values)[1],  # 50th\n",
    "                           percentiles(actual_values)[2],  # 75th\n",
    "                           min_max_count(actual_values)[1]]  # Max\n",
    "\n",
    "        \n",
    "    return stats_dict\n",
    "    \n",
    "    \n",
    "\n",
    "# print(get_stats('task1.csv'))\n",
    "print(\"{\" + \"\\n\"+ \",\\n\".join(\"{!r}: {!r}\".format(k, v) for k, v in get_stats('task1.csv').items()) + \"\\n\" + \"}\")"
   ]
  },
  {
   "cell_type": "markdown",
   "metadata": {
    "deletable": false
   },
   "source": [
    "<p style=\"color:red; font-weight:bold; font-size:xx-small\">MARK: __%</p>\n",
    "<p style=\"color:red; font-weight:bold; font-size:xx-small\">FEEDBACK: </p>"
   ]
  },
  {
   "cell_type": "markdown",
   "metadata": {
    "deletable": false
   },
   "source": [
    "### Requirement FR8 - Develop a function to print a custom table"
   ]
  },
  {
   "cell_type": "code",
   "execution_count": 16,
   "metadata": {},
   "outputs": [
    {
     "name": "stdout",
     "output_type": "stream",
     "text": [
      "                        *********************************************************************************************\n",
      "                        * Hydropower           * Wind                 * Other                * Solar                * \n",
      " ********************************************************************************************************************\n",
      " * Count                * 88                   * 88                   * 87                   * 88                   * \n",
      " * Mean                 * 48.821284107875      * 14.380072730647727   * 7.0139358669540215   * 6.617743776193181    * \n",
      " * Stdev                * 143.6115654111956    * 50.17237934719126    * 15.911752479774876   * 23.05016622882576    * \n",
      " * Min                  * 0.0                  * 0.0                  * 0.0                  * 0.0                  * \n",
      " * 25th                 * 0.885632595          * 0.0822               * 0.100724044          * 0.080231508          * \n",
      " * 50th                 * 7.597013             * 0.977082975          * 0.903                * 0.585723529          * \n",
      " * 75th                 * 35.99700727          * 6.789652             * 6.331                * 2.733                * \n",
      " * Max                  * 1202.43              * 366.0                * 90.72346175          * 177.5                * \n",
      " ********************************************************************************************************************\n"
     ]
    }
   ],
   "source": [
    "# add code here\n",
    "# Defining the function\n",
    "def create_table(csv_file, columns_to_print): \n",
    "    \n",
    "    # Initiating an empty dictionary to hold the data\n",
    "    data = {}\n",
    "    # Feeding the row names into the dictionary\n",
    "    data['Stats'] = get_stats(csv_file)['Stats']\n",
    "    all_stats = get_stats(csv_file)\n",
    "\n",
    "    for i in columns_to_print:\n",
    "        data[i] = all_stats[i]\n",
    "    # print(data)\n",
    "    data_popped = data.copy()\n",
    "    \n",
    "    data_popped.pop('Stats')\n",
    "    \n",
    "    \n",
    "    print(\"{:<24}\".format('') + '*' * 93)\n",
    "    \n",
    "    print(\"{:<23}\".format(''), end = ' * ')\n",
    "    \n",
    "    for key in data_popped.keys():  \n",
    "        print(\"{:<20}\".format(key), end = ' * ')\n",
    "        \n",
    "    print()\n",
    "    \n",
    "    print(\"{:<1}\".format('') +'*' * 116)   \n",
    "\n",
    "    rows_to_print = 8\n",
    "    \n",
    "    for row_index in range(rows_to_print): \n",
    "        print(' * ', end = '')\n",
    "        for column in list(data.values()):\n",
    "            print(\"{:<20}\".format(column[row_index]), end = ' * ')\n",
    "        print()\n",
    "         \n",
    "    print(\"{:<1}\".format('') +'*' * 116) \n",
    "    # print(\"{:<1}\".format('') +'*' * 31 * len(columns_to_print))\n",
    "    \n",
    "    \n",
    "\n",
    "cols_to_print = ['Hydropower', 'Wind', 'Other', 'Solar']\n",
    "create_table('task1.csv', cols_to_print)\n",
    "        "
   ]
  },
  {
   "cell_type": "markdown",
   "metadata": {
    "deletable": false
   },
   "source": [
    "<p style=\"color:red; font-weight:bold; font-size:xx-small\">MARK: __%</p>\n",
    "<p style=\"color:red; font-weight:bold; font-size:xx-small\">FEEDBACK: </p>"
   ]
  },
  {
   "cell_type": "markdown",
   "metadata": {
    "deletable": false
   },
   "source": [
    "# Coding Standards\n",
    "<p style=\"color:red; font-weight:bold; font-size:xx-small\">MARK: __%</p>\n",
    "<p style=\"color:red; font-weight:bold; font-size:xx-small\">FEEDBACK: </p>"
   ]
  },
  {
   "cell_type": "markdown",
   "metadata": {
    "deletable": false
   },
   "source": [
    "# Process Development Report for Task 1\n"
   ]
  },
  {
   "cell_type": "markdown",
   "metadata": {},
   "source": [
    "#### Reflective Report on Task 1:  \n",
    "\n",
    "The aim of the task is to test my knowledge of programming concepts as well as my understanding of the use of built-in functions in python. My choice of approach in all the task was based on simplicity and ease of understanding. \n",
    "\n",
    "The first function involved finding the arithmetic mean of a list of values. I used the built-in sum and length function in python to get the average of the list of data. \n",
    "\n",
    "For the second function, I simply used the formula for standard deviation to write the function. I found this straight forward as this just involved manipulating a formula to create a function. \n",
    "\n",
    "The third task involved creating a function that gets the minimum, maximum as well as the total number of items of a list.  For this task, I decided to sort the values in the list using the sort function in python. I could have used some of the built-in functions already in python, e.g. max, min or count. However, I wanted to show the inner workings of those functions. \n",
    "\n",
    "The percentile function was a bit tricky as there are different ways this could be done. I tried to implement something close to the numpy percentile function, but I later found that a bit difficult to achieve, as I kept getting some margin of error. I decided to stick with the simpler approach which involves picking the rank greater than or equal to the percentile position. \n",
    "\n",
    "The fifth and sixth task involved reading csv files. The fifth task was easy as I could use a for loop to read each line in the csv file. Another function I could have used is the readlines function in python, however, I realised that was not necessary as I could loop through the lines in the file without needing to use the function. I used the same approach for the sixth task, but here, I used the next function to get the column names, as this only captures the first line in the csv file. \n",
    "\n",
    "I attempted the seventh task by reading in the values of dictionary output from the sixth function. While making the necessary calculations as well as adding the calculations to a dictionary. I realised that there was a None value in one of the columns, for this, I used a try and except statement to convert the strings to floats while skipping any value that cannot be converted to floats. One thing I could have done to make my code in this exercise shorter is to make the calculations on each column and add the values to a dictionary as I go. Instead, I added the values to empty lists first. \n",
    "\n",
    "I had some challenges with the eighth task, but in the end, I opted to set up a table with a constant shape. Where the outputs can still be defined. \n",
    "\n",
    "I found the exercises engaging, and I experimented with a lot of things while working on it. "
   ]
  },
  {
   "cell_type": "markdown",
   "metadata": {
    "deletable": false
   },
   "source": [
    "<p style=\"color:red; font-weight:bold; font-size:xx-small\">MARK: __%</p>\n",
    "<p style=\"color:red; font-weight:bold; font-size:xx-small\">FEEDBACK: </p>"
   ]
  }
 ],
 "metadata": {
  "kernelspec": {
   "display_name": "Python 3",
   "language": "python",
   "name": "python3"
  },
  "language_info": {
   "codemirror_mode": {
    "name": "ipython",
    "version": 3
   },
   "file_extension": ".py",
   "mimetype": "text/x-python",
   "name": "python",
   "nbconvert_exporter": "python",
   "pygments_lexer": "ipython3",
   "version": "3.10.1"
  }
 },
 "nbformat": 4,
 "nbformat_minor": 4
}
